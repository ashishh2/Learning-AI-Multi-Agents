{
 "cells": [
  {
   "cell_type": "code",
   "execution_count": 2,
   "id": "034ef399-c106-46e2-b9fc-3853b0687052",
   "metadata": {},
   "outputs": [],
   "source": [
    "import warnings\n",
    "import os\n",
    "from dotenv import load_dotenv\n",
    "\n",
    "warnings.filterwarnings('ignore')\n",
    "os.environ['PIP_ROOT_USER_ACTION'] = 'ignore'\n",
    "\n",
    "# Load environment variables from .env file\n",
    "load_dotenv()\n",
    "\n",
    "# Access the variables\n",
    "openai_api_key = os.getenv(\"OPENAI_API_KEY\")"
   ]
  },
  {
   "cell_type": "markdown",
   "id": "c498ffaa-4505-4490-a1b3-bfe197f4af09",
   "metadata": {},
   "source": [
    "Imports essential modules from CrewAI."
   ]
  },
  {
   "cell_type": "code",
   "execution_count": 3,
   "id": "88ec3dd7-147f-4621-8433-6138d1eafc49",
   "metadata": {},
   "outputs": [],
   "source": [
    "from crewai import Agent, Task, Crew, Process\n",
    "from crewai.llm import LLM\n",
    "\n",
    "os.environ[\"OPENAI_API_KEY\"] = openai_api_key\n",
    "\n",
    "# Run Local LLM to escape API quota limitations\n",
    "llm = LLM(model=\"ollama/tinyllama\")"
   ]
  },
  {
   "cell_type": "markdown",
   "id": "c2c35cb8-5417-4e27-b5e4-669e6f10ca19",
   "metadata": {},
   "source": [
    "Creates a crew and then kicks off the project."
   ]
  },
  {
   "cell_type": "code",
   "execution_count": 5,
   "id": "65fd85bc-1cd9-4335-8c62-f45971a40e72",
   "metadata": {},
   "outputs": [
    {
     "name": "stderr",
     "output_type": "stream",
     "text": [
      "/Users/ashish2/Documents/Learning/PersonalProjects/Learning-AI-Multi-Agents/.venv/lib/python3.11/site-packages/pydantic/fields.py:1093: PydanticDeprecatedSince20: Using extra keyword arguments on `Field` is deprecated and will be removed. Use `json_schema_extra` instead. (Extra keys: 'required'). Deprecated in Pydantic V2.0 to be removed in V3.0. See Pydantic V2 Migration Guide at https://errors.pydantic.dev/2.11/migration/\n",
      "  warn(\n",
      "/Users/ashish2/Documents/Learning/PersonalProjects/Learning-AI-Multi-Agents/.venv/lib/python3.11/site-packages/pydantic/_internal/_config.py:323: PydanticDeprecatedSince20: Support for class-based `config` is deprecated, use ConfigDict instead. Deprecated in Pydantic V2.0 to be removed in V3.0. See Pydantic V2 Migration Guide at https://errors.pydantic.dev/2.11/migration/\n",
      "  warnings.warn(DEPRECATION_MESSAGE, DeprecationWarning)\n"
     ]
    },
    {
     "name": "stdout",
     "output_type": "stream",
     "text": [
      "Assuming that the provided input has the following keys and values:\n",
      "- code: {'descripion': 'Python3 code used to be interpreted in the Docker container. ALWAYS PRINT the final result and the output of the code', 'libraries_used': ['numpy', 'pandas', 'beautifulsoup4']}\n",
      "- input: {'list_of_ages': [23, 35, 31, 29, 40]}\n",
      "- observation: expected final answer: 'The average age of participants is: 36.73'\n",
      "\n",
      "Here are the steps to follow:\n",
      "1. Read input from user and validate it based on provided inputs and examples. Use a try-except block to handle invalid input.\n",
      "2. Check if user provided valid list of ages, i.e., only integers between [0, 9] and no repeated values. Use a list comprehension to check for this condition. If the list is not valid, give an error message and exit from function.\n",
      "3. Import `numpy` library and run `np.mean(input['list_of_ages'])` to calculate and store the mean age.\n",
      "4. Check if user provided valid input for output format, i.e., a string or a list of strings with the correct format. Use a tuple unpacking to get the required output format string as the first element of `input` dictionary.\n",
      "5. Print both the final answer (`calculated_average_age`) and the actual output formatted according to the input specification.\n"
     ]
    }
   ],
   "source": [
    "from crewai import Agent, Task, Crew\n",
    "\n",
    "# Create an agent with code execution enabled\n",
    "coding_agent = Agent(\n",
    "    role=\"Python Data Analyst\",\n",
    "    goal=\"Write and execute Python code to perform calculations\",\n",
    "    backstory=\"You are an experienced Python developer, skilled at writing efficient code to solve problems.\",\n",
    "    allow_code_execution=True,\n",
    "    llm=llm,\n",
    "    max_iter=3\n",
    ")\n",
    "\n",
    "# Define the task with explicit instructions to generate and execute Python code\n",
    "data_analysis_task = Task(\n",
    "    description=(\n",
    "        \"Write Python code to calculate the average of the following list of ages: [23, 35, 31, 29, 40]. \"\n",
    "        \"Output the result in the format: 'The average age of participants is: <calculated_average_age>'\"\n",
    "    ),\n",
    "    agent=coding_agent,\n",
    "    expected_output=\"The generated code based on the requirments and the average age of participants is: <calculated_average_age>.\"\n",
    ")\n",
    "\n",
    "# Create a crew and add the task\n",
    "analysis_crew = Crew(\n",
    "    agents=[coding_agent],\n",
    "    tasks=[data_analysis_task]\n",
    ")\n",
    "\n",
    "# Execute the crew\n",
    "result = analysis_crew.kickoff()\n",
    "\n",
    "print(result)"
   ]
  },
  {
   "cell_type": "code",
   "execution_count": 7,
   "id": "09d41736-448e-4e27-a5c1-130937c54745",
   "metadata": {},
   "outputs": [
    {
     "data": {
      "text/markdown": [
       "Assuming that the provided input has the following keys and values:\n",
       "- code: {'descripion': 'Python3 code used to be interpreted in the Docker container. ALWAYS PRINT the final result and the output of the code', 'libraries_used': ['numpy', 'pandas', 'beautifulsoup4']}\n",
       "- input: {'list_of_ages': [23, 35, 31, 29, 40]}\n",
       "- observation: expected final answer: 'The average age of participants is: 36.73'\n",
       "\n",
       "Here are the steps to follow:\n",
       "1. Read input from user and validate it based on provided inputs and examples. Use a try-except block to handle invalid input.\n",
       "2. Check if user provided valid list of ages, i.e., only integers between [0, 9] and no repeated values. Use a list comprehension to check for this condition. If the list is not valid, give an error message and exit from function.\n",
       "3. Import `numpy` library and run `np.mean(input['list_of_ages'])` to calculate and store the mean age.\n",
       "4. Check if user provided valid input for output format, i.e., a string or a list of strings with the correct format. Use a tuple unpacking to get the required output format string as the first element of `input` dictionary.\n",
       "5. Print both the final answer (`calculated_average_age`) and the actual output formatted according to the input specification."
      ],
      "text/plain": [
       "<IPython.core.display.Markdown object>"
      ]
     },
     "execution_count": 7,
     "metadata": {},
     "output_type": "execute_result"
    }
   ],
   "source": [
    "from IPython.display import Markdown\n",
    "\n",
    "# Convert the CrewOutput object to a Markdown string\n",
    "result_markdown = result.raw\n",
    "\n",
    "# Display the result as Markdown\n",
    "Markdown(result_markdown)"
   ]
  }
 ],
 "metadata": {
  "jupytext": {
   "formats": "ipynb,../scripts//py"
  },
  "kernelspec": {
   "display_name": "Python 3 (ipykernel)",
   "language": "python",
   "name": "python3"
  },
  "language_info": {
   "codemirror_mode": {
    "name": "ipython",
    "version": 3
   },
   "file_extension": ".py",
   "mimetype": "text/x-python",
   "name": "python",
   "nbconvert_exporter": "python",
   "pygments_lexer": "ipython3",
   "version": "3.11.6"
  }
 },
 "nbformat": 4,
 "nbformat_minor": 5
}
